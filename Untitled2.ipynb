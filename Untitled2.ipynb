{
  "nbformat": 4,
  "nbformat_minor": 0,
  "metadata": {
    "colab": {
      "provenance": [],
      "authorship_tag": "ABX9TyPehf9iH35sSUkSXh5Nv1UX",
      "include_colab_link": true
    },
    "kernelspec": {
      "name": "python3",
      "display_name": "Python 3"
    },
    "language_info": {
      "name": "python"
    }
  },
  "cells": [
    {
      "cell_type": "markdown",
      "metadata": {
        "id": "view-in-github",
        "colab_type": "text"
      },
      "source": [
        "<a href=\"https://colab.research.google.com/github/syed-ali-jibran-rizvi/CodSoftAllTasks/blob/master/Untitled2.ipynb\" target=\"_parent\"><img src=\"https://colab.research.google.com/assets/colab-badge.svg\" alt=\"Open In Colab\"/></a>"
      ]
    },
    {
      "cell_type": "code",
      "execution_count": null,
      "metadata": {
        "colab": {
          "base_uri": "https://localhost:8080/"
        },
        "id": "UjpXyLxOLlaJ",
        "outputId": "1718beec-cb59-4c50-9f95-513ae14bb2ae"
      },
      "outputs": [
        {
          "output_type": "stream",
          "name": "stdout",
          "text": [
            "Train Data:\n",
            "  candidate_id gender  age  height_in_cm  weight_in_lbs  left_eyesight_lvl  \\\n",
            "0        CAN_1   Male   35           170         165.35                1.0   \n",
            "1        CAN_2   Male   30           180         176.37                0.9   \n",
            "2        CAN_3   Male   40           165         165.35                1.2   \n",
            "3        CAN_4   Male   50           175         176.37                1.5   \n",
            "4        CAN_5   Male   50           165         132.28                1.0   \n",
            "\n",
            "   right_eyesight_lvl   can_hear_left_ear  can_hear_right_ear  \\\n",
            "0                 1.0  Slightly Defective  Slightly Defective   \n",
            "1                 1.2  Slightly Defective  Slightly Defective   \n",
            "2                 1.5  Slightly Defective  Slightly Defective   \n",
            "3                 1.2  Slightly Defective  Slightly Defective   \n",
            "4                 1.2  Slightly Defective  Slightly Defective   \n",
            "\n",
            "   blood_pressure_lvl1  ...  bad_cholestrol_lvl  hemoglobin_lvl  urea_lvl  \\\n",
            "0                120.0  ...               126.0            17.1       1.0   \n",
            "1                130.0  ...               148.0            15.8       1.0   \n",
            "2                120.0  ...                74.0            15.8       1.0   \n",
            "3                145.0  ...               104.0            17.6       1.0   \n",
            "4                138.0  ...               117.0            13.8       1.0   \n",
            "\n",
            "   creatinine_lvl  liver_enzyme_lvl1  liver_enzyme_lvl2   smoking_habit  \\\n",
            "0             1.0               21.0               35.0  Does not Smoke   \n",
            "1             0.9               20.0               36.0    Chain Smoker   \n",
            "2             0.9               47.0               32.0  Does not Smoke   \n",
            "3             1.1               29.0               34.0  Does not Smoke   \n",
            "4             0.8               19.0               12.0  Does not Smoke   \n",
            "\n",
            "   drinking_habit  residential_area  triglyceride_lvl  \n",
            "0               Y              Town              92.0  \n",
            "1               N             Urban             121.0  \n",
            "2               N             Rural             104.0  \n",
            "3               N              Town             106.0  \n",
            "4               N             Urban             104.0  \n",
            "\n",
            "[5 rows x 24 columns]\n",
            "\n",
            "Test Data:\n",
            "  candidate_id  gender  age  height_in_cm  weight_in_lbs  left_eyesight_lvl  \\\n",
            "0    CAN_22401  Female   50           155         121.25                1.2   \n",
            "1    CAN_22402  Female   40           165         132.28                1.0   \n",
            "2    CAN_22403  Female   40           155          99.21                0.9   \n",
            "3    CAN_22404    Male   50           175         176.37                1.5   \n",
            "4    CAN_22405    Male   45           180         143.30                1.0   \n",
            "\n",
            "   right_eyesight_lvl   can_hear_left_ear  can_hear_right_ear  \\\n",
            "0                 0.9  Slightly Defective  Slightly Defective   \n",
            "1                 0.9  Slightly Defective  Slightly Defective   \n",
            "2                 1.2  Slightly Defective  Slightly Defective   \n",
            "3                 1.5  Slightly Defective  Slightly Defective   \n",
            "4                 1.0  Slightly Defective  Slightly Defective   \n",
            "\n",
            "   blood_pressure_lvl1  ...  good_cholestrol_lvl  bad_cholestrol_lvl  \\\n",
            "0                140.0  ...                 48.0               158.0   \n",
            "1                135.0  ...                 83.0                68.0   \n",
            "2                100.0  ...                 73.0                78.0   \n",
            "3                128.0  ...                 47.0                80.0   \n",
            "4                130.0  ...                 66.0                55.0   \n",
            "\n",
            "   hemoglobin_lvl  urea_lvl  creatinine_lvl  liver_enzyme_lvl1  \\\n",
            "0            14.0       1.0             0.7               16.0   \n",
            "1            15.1       1.0             0.7               14.0   \n",
            "2            10.8       1.0             0.6               17.0   \n",
            "3            15.6       1.0             1.0               25.0   \n",
            "4            14.9       1.0             1.1               32.0   \n",
            "\n",
            "   liver_enzyme_lvl2        smoking_habit  drinking_habit  residential_area  \n",
            "0               13.0       Does not Smoke               N             Urban  \n",
            "1               16.0                  NaN               Y              Town  \n",
            "2                9.0       Does not Smoke               N              Town  \n",
            "3               47.0  Occassionaly Smokes               Y             Rural  \n",
            "4               17.0         Chain Smoker               Y              Town  \n",
            "\n",
            "[5 rows x 23 columns]\n"
          ]
        }
      ],
      "source": [
        "import pandas as pd\n",
        "\n",
        "# Load the datasets\n",
        "train_data = pd.read_csv(\"train.csv\")\n",
        "test_data = pd.read_csv(\"test.csv\")\n",
        "\n",
        "# Display the first few rows of train_data\n",
        "print(\"Train Data:\")\n",
        "print(train_data.head())\n",
        "\n",
        "# Display the first few rows of test_data\n",
        "print(\"\\nTest Data:\")\n",
        "print(test_data.head())\n"
      ]
    },
    {
      "cell_type": "code",
      "source": [
        "import pandas as pd\n",
        "from sklearn.model_selection import train_test_split\n",
        "from sklearn.preprocessing import StandardScaler, LabelEncoder\n",
        "from sklearn.pipeline import Pipeline\n",
        "from xgboost import XGBRegressor\n",
        "from sklearn.metrics import mean_absolute_error\n",
        "\n",
        "# Load the datasets\n",
        "train_data = pd.read_csv(\"train.csv\")\n",
        "test_data = pd.read_csv(\"test.csv\")\n",
        "\n",
        "# Convert categorical variables to numerical\n",
        "label_encoder = LabelEncoder()\n",
        "for column in ['gender', 'can_hear_left_ear', 'can_hear_right_ear', 'smoking_habit', 'drinking_habit', 'residential_area']:\n",
        "    train_data[column] = label_encoder.fit_transform(train_data[column].astype(str))\n",
        "    test_data[column] = label_encoder.transform(test_data[column].astype(str))\n",
        "\n",
        "# Separate features and target variable\n",
        "X = train_data.drop(['candidate_id', 'triglyceride_lvl'], axis=1)\n",
        "y = train_data['triglyceride_lvl']\n",
        "\n",
        "# Split the data into training and validation sets\n",
        "X_train, X_val, y_train, y_val = train_test_split(X, y, test_size=0.2, random_state=42)\n",
        "\n",
        "# Define the model pipeline\n",
        "model = Pipeline([\n",
        "    ('scaler', StandardScaler()),\n",
        "    ('regressor', XGBRegressor())\n",
        "])\n",
        "\n",
        "# Fit the model\n",
        "model.fit(X_train, y_train)\n",
        "\n",
        "# Make predictions on the validation set\n",
        "val_predictions = model.predict(X_val)\n",
        "\n",
        "# Calculate Mean Absolute Error on validation set\n",
        "mae = mean_absolute_error(y_val, val_predictions)\n",
        "print(\"Mean Absolute Error on validation set:\", mae)\n",
        "\n",
        "# Calculate the score\n",
        "score = max(0, 100 - mae)\n",
        "print(\"Score:\", score)\n",
        "\n",
        "# Make predictions on the test set\n",
        "test_predictions = model.predict(test_data.drop('candidate_id', axis=1))\n",
        "\n",
        "# Prepare submission file\n",
        "submission = pd.DataFrame({'candidate_id': test_data['candidate_id'], 'triglyceride_lvl': test_predictions})\n",
        "submission.to_csv('submission.csv', index=False)\n"
      ],
      "metadata": {
        "colab": {
          "base_uri": "https://localhost:8080/"
        },
        "id": "7Dr81aqH3tI_",
        "outputId": "6a2ba906-e015-428c-e560-f3e8290c55c0"
      },
      "execution_count": null,
      "outputs": [
        {
          "output_type": "stream",
          "name": "stdout",
          "text": [
            "Mean Absolute Error on validation set: 16.47016328269882\n",
            "Score: 83.52983671730118\n"
          ]
        }
      ]
    },
    {
      "cell_type": "code",
      "source": [
        "l=[1,0,2,0,'hello',\",[]]\n",
        "list(filter(bool,l))"
      ],
      "metadata": {
        "colab": {
          "base_uri": "https://localhost:8080/",
          "height": 106
        },
        "id": "9sLrUD5DYCze",
        "outputId": "33bda3ae-345c-4c38-887d-d9cb8b038675"
      },
      "execution_count": null,
      "outputs": [
        {
          "output_type": "error",
          "ename": "SyntaxError",
          "evalue": "unterminated string literal (detected at line 1) (<ipython-input-7-47ab682ed380>, line 1)",
          "traceback": [
            "\u001b[0;36m  File \u001b[0;32m\"<ipython-input-7-47ab682ed380>\"\u001b[0;36m, line \u001b[0;32m1\u001b[0m\n\u001b[0;31m    l=[1,0,2,0,'hello',\",[]]\u001b[0m\n\u001b[0m                       ^\u001b[0m\n\u001b[0;31mSyntaxError\u001b[0m\u001b[0;31m:\u001b[0m unterminated string literal (detected at line 1)\n"
          ]
        }
      ]
    }
  ]
}